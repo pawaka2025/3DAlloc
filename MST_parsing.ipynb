{
  "nbformat": 4,
  "nbformat_minor": 0,
  "metadata": {
    "colab": {
      "provenance": [],
      "authorship_tag": "ABX9TyMr0rgnftv4OFQRfq3Z3jeW",
      "include_colab_link": true
    },
    "kernelspec": {
      "name": "python3",
      "display_name": "Python 3"
    },
    "language_info": {
      "name": "python"
    }
  },
  "cells": [
    {
      "cell_type": "markdown",
      "metadata": {
        "id": "view-in-github",
        "colab_type": "text"
      },
      "source": [
        "<a href=\"https://colab.research.google.com/github/pawaka2025/3DAlloc/blob/main/MST_parsing.ipynb\" target=\"_parent\"><img src=\"https://colab.research.google.com/assets/colab-badge.svg\" alt=\"Open In Colab\"/></a>"
      ]
    },
    {
      "cell_type": "code",
      "execution_count": null,
      "metadata": {
        "id": "dA2XeZmtxgQm",
        "colab": {
          "base_uri": "https://localhost:8080/",
          "height": 589
        },
        "outputId": "15ba2035-09dc-4d36-b1ae-653f7cba8468"
      },
      "outputs": [
        {
          "output_type": "stream",
          "name": "stdout",
          "text": [
            "Dependency Tree (Head -> Dependent):\n",
            "ROOT -> the\n",
            "ROOT -> cat\n",
            "ROOT -> sleeps\n"
          ]
        },
        {
          "output_type": "display_data",
          "data": {
            "text/plain": [
              "<Figure size 640x480 with 1 Axes>"
            ],
            "image/png": "[encoded data removed]"
          },
          "metadata": {}
        }
      ],
      "source": [
        "# Method 1 : Use Edmond's algorthm\n",
        "\n",
        "import torch\n",
        "import networkx as nx\n",
        "\n",
        "# Define sentence words (ROOT for the root node)\n",
        "words = [\"ROOT\", \"the\", \"cat\", \"sleeps\"]\n",
        "\n",
        "# Example adjacency matrix with weights\n",
        "# Rows: Head, Columns: Dependent\n",
        "# Higher weight means a stronger dependency relation\n",
        "score_matrix = torch.tensor([\n",
        "    [0.0, 0.5, 0.7, 0.8],  # ROOT -> (the, cat, sleeps)\n",
        "    [0.0, 0.0, 0.7, 0.0],  # the -> (cat)\n",
        "    [0.0, 0.0, 0.0, 0.2],  # cat -> (sleeps)\n",
        "    [0.0, 0.0, 0.0, 0.0],  # sleeps -> (None)\n",
        "])\n",
        "\n",
        "# Crate a NetworkX graph\n",
        "G = nx.DiGraph()\n",
        "\n",
        "# Add edges with weights to the NetworkX graph\n",
        "num_words = len(words)\n",
        "for head in range(num_words):\n",
        "    for dep in range(num_words):\n",
        "        if head != dep:  # No self-loops\n",
        "            G.add_edge(head, dep, weight=score_matrix[head, dep].item())\n",
        "\n",
        "# Visualize the NetworkX graph for inspection (very crude, no labels for edges and nodes)\n",
        "nx.draw(G)\n",
        "\n",
        "# Compute Maximum Spanning Tree using Edmonds' algorithm\n",
        "mst = nx.maximum_spanning_arborescence(G)\n",
        "\n",
        "# Print dependencies\n",
        "print(\"Dependency Tree (Head -> Dependent):\")\n",
        "for head, dep in mst.edges():\n",
        "    print(f\"{words[head]} -> {words[dep]}\")\n"
      ]
    },
    {
      "cell_type": "code",
      "source": [
        "import torch\n",
        "# A more comprehensive grammar would look like this (assuming absolute values\n",
        "# instead of probabilistic for weights)\n",
        "score_matrix = torch.tensor([\n",
        "    #  ROOT  the  cat  dog  tiger  lion  elephant  giraffe  monkey  horse  rabbit  sleeps\n",
        "    [   0,    9,   0,   0,    0,    0,       0,       0,      0,      0,      0,     8],  # ROOT -> the, sleeps\n",
        "    [   0,    0,  10,  10,   10,   10,      10,      10,     10,     10,     10,     0],  # the -> (any noun)\n",
        "    [   0,    0,   0,   0,    0,    0,       0,       0,      0,      0,      0,    12],  # cat -> sleeps\n",
        "    [   0,    0,   0,   0,    0,    0,       0,       0,      0,      0,      0,    12],  # dog -> sleeps\n",
        "    [   0,    0,   0,   0,    0,    0,       0,       0,      0,      0,      0,    12],  # tiger -> sleeps\n",
        "    [   0,    0,   0,   0,    0,    0,       0,       0,      0,      0,      0,    12],  # lion -> sleeps\n",
        "    [   0,    0,   0,   0,    0,    0,       0,       0,      0,      0,      0,    12],  # elephant -> sleeps\n",
        "    [   0,    0,   0,   0,    0,    0,       0,       0,      0,      0,      0,    12],  # giraffe -> sleeps\n",
        "    [   0,    0,   0,   0,    0,    0,       0,       0,      0,      0,      0,    12],  # monkey -> sleeps\n",
        "    [   0,    0,   0,   0,    0,    0,       0,       0,      0,      0,      0,    12],  # horse -> sleeps\n",
        "    [   0,    0,   0,   0,    0,    0,       0,       0,      0,      0,      0,    12],  # rabbit -> sleeps\n",
        "    [   0,    0,   0,   0,    0,    0,       0,       0,      0,      0,      0,     0],  # sleeps -> (None)\n",
        "])\n"
      ],
      "metadata": {
        "id": "K1kdSkCfHFBL"
      },
      "execution_count": null,
      "outputs": []
    },
    {
      "cell_type": "code",
      "source": [
        "# Method 2 : utilize sparse matrices + min-plus semiring\n",
        "\n",
        "import numpy as np\n",
        "from scipy.sparse import csr_matrix, csc_matrix\n",
        "\n",
        "# Define sentence words (including ROOT node)\n",
        "words = [\"ROOT\", \"the\", \"cat\", \"sleeps\"]\n",
        "\n",
        "# Adjacency matrix representation of the graph\n",
        "adj_matrix = np.array([\n",
        "    [0.0, 1.0, 1.0, 1.0],  # ROOT -> (the, cat, sleeps)\n",
        "    [0.0, 0.0, 1.0, 0.0],  # the -> (cat)\n",
        "    [0.0, 0.0, 0.0, 1.0],  # cat -> (sleeps)\n",
        "    [0.0, 0.0, 0.0, 0.0],  # sleeps -> (None)\n",
        "], dtype=np.float32)\n",
        "\n",
        "# Convert adjacency matrix to CSR (for A) and CSC (for B)\n",
        "row_idx, col_idx = np.where(adj_matrix > 0)\n",
        "data = adj_matrix[row_idx, col_idx]\n",
        "\n",
        "A_csr = csr_matrix((data, (row_idx, col_idx)), shape=adj_matrix.shape)\n",
        "B_csc = A_csr.tocsc()  # Convert to CSC format\n",
        "\n",
        "print(\"CSR Representation (A):\")\n",
        "print(A_csr)\n",
        "\n",
        "print(\"\\nCSC Representation (B):\")\n",
        "print(B_csc)\n",
        "\n",
        "# ---- Step 2: Semiring ----\n",
        "def semiring_max_plus(A_csr, B_csc):\n",
        "    \"\"\"\n",
        "    Perform min-plus semiring multiplication using sparse matrix formats:\n",
        "    - A is in CSR (efficient row-wise access)\n",
        "    - B is in CSC (efficient column-wise access)\n",
        "\n",
        "    Computes: C_ij = min_k (A_ik + B_kj)\n",
        "    \"\"\"\n",
        "    # Get sparse matrix data\n",
        "    A_indptr, A_indices, A_data = A_csr.indptr, A_csr.indices, A_csr.data\n",
        "    B_indptr, B_indices, B_data = B_csc.indptr, B_csc.indices, B_csc.data\n",
        "\n",
        "    # Output shape\n",
        "    n = A_csr.shape[0]\n",
        "    C_data = []\n",
        "    C_row = []\n",
        "    C_col = []\n",
        "\n",
        "    # Min-Plus sparse multiplication\n",
        "    for i in range(n):  # Iterate over rows of A (CSR)\n",
        "        for j in range(n):  # Iterate over columns of B (CSC)\n",
        "            min_value = np.inf  # Start with infinity\n",
        "            a_start, a_end = A_indptr[i], A_indptr[i+1]\n",
        "            b_start, b_end = B_indptr[j], B_indptr[j+1]\n",
        "\n",
        "            # Merge-scan over A[i, :] and B[:, j]\n",
        "            ai, bi = a_start, b_start\n",
        "            while ai < a_end and bi < b_end:\n",
        "                a_k, b_k = A_indices[ai], B_indices[bi]\n",
        "\n",
        "                if a_k == b_k:  # Matching column/row index\n",
        "                    min_value = min(min_value, A_data[ai] + B_data[bi])\n",
        "                    ai += 1\n",
        "                    bi += 1\n",
        "                elif a_k < b_k:\n",
        "                    ai += 1\n",
        "                else:\n",
        "                    bi += 1\n",
        "\n",
        "            if min_value < np.inf:\n",
        "                C_data.append(min_value)\n",
        "                C_row.append(i)\n",
        "                C_col.append(j)\n",
        "\n",
        "    return csr_matrix((C_data, (C_row, C_col)), shape=(n, n))\n",
        "\n",
        "# ---- Step 3: Compute MST using Semiring ----\n",
        "# Initially, distance matrix is the adjacency matrix\n",
        "distance_matrix = A_csr.copy()\n",
        "\n",
        "# Number of nodes\n",
        "n_nodes = adj_matrix.shape[0]\n",
        "\n",
        "# Iterate until convergence (or a fixed number of steps)\n",
        "for _ in range(n_nodes - 1):\n",
        "    distance_matrix = semiring_min_plus(distance_matrix, B_csc)\n",
        "\n",
        "# ---- Step 4: Extract MST ----\n",
        "mst_edges = []\n",
        "csr_dense = distance_matrix.toarray()\n",
        "\n",
        "for j in range(1, n_nodes):  # Exclude ROOT from being a dependent\n",
        "    min_parent = np.argmin(csr_dense[:, j])  # Find the best parent for each node\n",
        "    mst_edges.append((words[min_parent], words[j]))\n",
        "\n",
        "# Print MST result\n",
        "print(\"\\nMinimum Spanning Tree (Head -> Dependent):\")\n",
        "for head, dep in mst_edges:\n",
        "    print(f\"{head} -> {dep}\")\n"
      ],
      "metadata": {
        "colab": {
          "base_uri": "https://localhost:8080/"
        },
        "id": "VOmo-o2axg4G",
        "outputId": "cc03688c-c582-4a02-fdaa-5638c22faec5"
      },
      "execution_count": null,
      "outputs": [
        {
          "output_type": "stream",
          "name": "stdout",
          "text": [
            "CSR Representation (A):\n",
            "<Compressed Sparse Row sparse matrix of dtype 'float32'\n",
            "\twith 5 stored elements and shape (4, 4)>\n",
            "  Coords\tValues\n",
            "  (0, 1)\t1.0\n",
            "  (0, 2)\t1.0\n",
            "  (0, 3)\t1.0\n",
            "  (1, 2)\t1.0\n",
            "  (2, 3)\t1.0\n",
            "\n",
            "CSC Representation (B):\n",
            "<Compressed Sparse Column sparse matrix of dtype 'float32'\n",
            "\twith 5 stored elements and shape (4, 4)>\n",
            "  Coords\tValues\n",
            "  (0, 1)\t1.0\n",
            "  (0, 2)\t1.0\n",
            "  (1, 2)\t1.0\n",
            "  (0, 3)\t1.0\n",
            "  (2, 3)\t1.0\n",
            "\n",
            "Minimum Spanning Tree (Head -> Dependent):\n",
            "ROOT -> the\n",
            "ROOT -> cat\n",
            "ROOT -> sleeps\n"
          ]
        }
      ]
    },
    {
      "cell_type": "code",
      "source": [
        "x"
      ],
      "metadata": {
        "id": "XbLt-_R4iKaC"
      },
      "execution_count": null,
      "outputs": []
    },
    {
      "cell_type": "markdown",
      "source": [
        "TLDR; define every word as a node and connect the words to each other via edges. Weights = probability, useful when there are ambiguities with the meaning of words ie 'I resent the letter' or 'draw a square with 3 lines'.\n",
        "Make an adjacency matrix for this.\n",
        "\n",
        "Then there are two ways to do this:\n",
        "\n",
        "1. Either do Edmund's algo.\n",
        "\n",
        "2. Or represent the adjacency matrix as a CSR and CSC and then do semiring matmul using max and plus as monoids.\n",
        "\n",
        "Both methods can be done while utilizing AVX-512 SIMD. (though 2 works better with SIMD)"
      ],
      "metadata": {
        "id": "3_4fU8an2Fb-"
      }
    },
    {
      "cell_type": "markdown",
      "source": [
        "Deeper dive:\n",
        "\n",
        "MST with Structural Constraints – Add constraints that ensure the MST follows programming syntax (e.g., valid Python/JS/SQL AST structures). This could involve integrating MST with tree automata."
      ],
      "metadata": {
        "id": "RMp74Pzc4T7g"
      }
    }
  ]
}